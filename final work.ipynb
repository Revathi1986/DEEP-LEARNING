{
  "nbformat": 4,
  "nbformat_minor": 0,
  "metadata": {
    "kernelspec": {
      "display_name": "Python 3",
      "language": "python",
      "name": "python3"
    },
    "language_info": {
      "codemirror_mode": {
        "name": "ipython",
        "version": 3
      },
      "file_extension": ".py",
      "mimetype": "text/x-python",
      "name": "python",
      "nbconvert_exporter": "python",
      "pygments_lexer": "ipython3",
      "version": "3.7.6"
    },
    "colab": {
      "name": "Starter_Code.ipynb",
      "provenance": [],
      "collapsed_sections": []
    }
  },
  "cells": [
    {
      "cell_type": "markdown",
      "metadata": {
        "id": "QoQOWZocwPla"
      },
      "source": [
        "## Preprocessing"
      ]
    },
    {
      "cell_type": "code",
      "metadata": {
        "colab": {
          "resources": {
            "http://localhost:8080/nbextensions/google.colab/files.js": {
              "data": "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",
              "ok": true,
              "headers": [
                [
                  "content-type",
                  "application/javascript"
                ]
              ],
              "status": 200,
              "status_text": ""
            }
          },
          "base_uri": "https://localhost:8080/",
          "height": 72
        },
        "id": "EQYj7ObbxSWs",
        "outputId": "b683d567-56b5-4dc7-c768-c38c511dc7f3"
      },
      "source": [
        "from google.colab import files\n",
        "uploaded = files.upload()"
      ],
      "execution_count": null,
      "outputs": [
        {
          "output_type": "display_data",
          "data": {
            "text/html": [
              "\n",
              "     <input type=\"file\" id=\"files-36c23e33-10bc-4518-b255-ed823d609cbf\" name=\"files[]\" multiple disabled\n",
              "        style=\"border:none\" />\n",
              "     <output id=\"result-36c23e33-10bc-4518-b255-ed823d609cbf\">\n",
              "      Upload widget is only available when the cell has been executed in the\n",
              "      current browser session. Please rerun this cell to enable.\n",
              "      </output>\n",
              "      <script src=\"/nbextensions/google.colab/files.js\"></script> "
            ],
            "text/plain": [
              "<IPython.core.display.HTML object>"
            ]
          },
          "metadata": {}
        },
        {
          "output_type": "stream",
          "name": "stdout",
          "text": [
            "Saving charity_data.csv to charity_data.csv\n"
          ]
        }
      ]
    },
    {
      "cell_type": "code",
      "metadata": {
        "colab": {
          "base_uri": "https://localhost:8080/",
          "height": 445
        },
        "id": "Zedv9V_TyNvc",
        "outputId": "ba33a447-c020-4d72-b317-236c28192ff6"
      },
      "source": [
        "# Import our dependencies\n",
        "from sklearn.model_selection import train_test_split\n",
        "from sklearn.preprocessing import StandardScaler\n",
        "import pandas as pd\n",
        "import tensorflow as tf\n",
        "import matplotlib.pyplot as plt\n",
        "\n",
        "#  Import and read the charity_data.csv.\n",
        "import pandas as pd \n",
        "# application_df = pd.read_csv(\"../Resources/charity_data.csv\")\n",
        "application_df = pd.read_csv('charity_data.csv')\n",
        "application_df.head()"
      ],
      "execution_count": null,
      "outputs": [
        {
          "output_type": "execute_result",
          "data": {
            "text/html": [
              "<div>\n",
              "<style scoped>\n",
              "    .dataframe tbody tr th:only-of-type {\n",
              "        vertical-align: middle;\n",
              "    }\n",
              "\n",
              "    .dataframe tbody tr th {\n",
              "        vertical-align: top;\n",
              "    }\n",
              "\n",
              "    .dataframe thead th {\n",
              "        text-align: right;\n",
              "    }\n",
              "</style>\n",
              "<table border=\"1\" class=\"dataframe\">\n",
              "  <thead>\n",
              "    <tr style=\"text-align: right;\">\n",
              "      <th></th>\n",
              "      <th>EIN</th>\n",
              "      <th>NAME</th>\n",
              "      <th>APPLICATION_TYPE</th>\n",
              "      <th>AFFILIATION</th>\n",
              "      <th>CLASSIFICATION</th>\n",
              "      <th>USE_CASE</th>\n",
              "      <th>ORGANIZATION</th>\n",
              "      <th>STATUS</th>\n",
              "      <th>INCOME_AMT</th>\n",
              "      <th>SPECIAL_CONSIDERATIONS</th>\n",
              "      <th>ASK_AMT</th>\n",
              "      <th>IS_SUCCESSFUL</th>\n",
              "    </tr>\n",
              "  </thead>\n",
              "  <tbody>\n",
              "    <tr>\n",
              "      <th>0</th>\n",
              "      <td>10520599</td>\n",
              "      <td>BLUE KNIGHTS MOTORCYCLE CLUB</td>\n",
              "      <td>T10</td>\n",
              "      <td>Independent</td>\n",
              "      <td>C1000</td>\n",
              "      <td>ProductDev</td>\n",
              "      <td>Association</td>\n",
              "      <td>1</td>\n",
              "      <td>0</td>\n",
              "      <td>N</td>\n",
              "      <td>5000</td>\n",
              "      <td>1</td>\n",
              "    </tr>\n",
              "    <tr>\n",
              "      <th>1</th>\n",
              "      <td>10531628</td>\n",
              "      <td>AMERICAN CHESAPEAKE CLUB CHARITABLE TR</td>\n",
              "      <td>T3</td>\n",
              "      <td>Independent</td>\n",
              "      <td>C2000</td>\n",
              "      <td>Preservation</td>\n",
              "      <td>Co-operative</td>\n",
              "      <td>1</td>\n",
              "      <td>1-9999</td>\n",
              "      <td>N</td>\n",
              "      <td>108590</td>\n",
              "      <td>1</td>\n",
              "    </tr>\n",
              "    <tr>\n",
              "      <th>2</th>\n",
              "      <td>10547893</td>\n",
              "      <td>ST CLOUD PROFESSIONAL FIREFIGHTERS</td>\n",
              "      <td>T5</td>\n",
              "      <td>CompanySponsored</td>\n",
              "      <td>C3000</td>\n",
              "      <td>ProductDev</td>\n",
              "      <td>Association</td>\n",
              "      <td>1</td>\n",
              "      <td>0</td>\n",
              "      <td>N</td>\n",
              "      <td>5000</td>\n",
              "      <td>0</td>\n",
              "    </tr>\n",
              "    <tr>\n",
              "      <th>3</th>\n",
              "      <td>10553066</td>\n",
              "      <td>SOUTHSIDE ATHLETIC ASSOCIATION</td>\n",
              "      <td>T3</td>\n",
              "      <td>CompanySponsored</td>\n",
              "      <td>C2000</td>\n",
              "      <td>Preservation</td>\n",
              "      <td>Trust</td>\n",
              "      <td>1</td>\n",
              "      <td>10000-24999</td>\n",
              "      <td>N</td>\n",
              "      <td>6692</td>\n",
              "      <td>1</td>\n",
              "    </tr>\n",
              "    <tr>\n",
              "      <th>4</th>\n",
              "      <td>10556103</td>\n",
              "      <td>GENETIC RESEARCH INSTITUTE OF THE DESERT</td>\n",
              "      <td>T3</td>\n",
              "      <td>Independent</td>\n",
              "      <td>C1000</td>\n",
              "      <td>Heathcare</td>\n",
              "      <td>Trust</td>\n",
              "      <td>1</td>\n",
              "      <td>100000-499999</td>\n",
              "      <td>N</td>\n",
              "      <td>142590</td>\n",
              "      <td>1</td>\n",
              "    </tr>\n",
              "  </tbody>\n",
              "</table>\n",
              "</div>"
            ],
            "text/plain": [
              "        EIN                                      NAME  ... ASK_AMT IS_SUCCESSFUL\n",
              "0  10520599              BLUE KNIGHTS MOTORCYCLE CLUB  ...    5000             1\n",
              "1  10531628    AMERICAN CHESAPEAKE CLUB CHARITABLE TR  ...  108590             1\n",
              "2  10547893        ST CLOUD PROFESSIONAL FIREFIGHTERS  ...    5000             0\n",
              "3  10553066            SOUTHSIDE ATHLETIC ASSOCIATION  ...    6692             1\n",
              "4  10556103  GENETIC RESEARCH INSTITUTE OF THE DESERT  ...  142590             1\n",
              "\n",
              "[5 rows x 12 columns]"
            ]
          },
          "metadata": {},
          "execution_count": 2
        }
      ]
    },
    {
      "cell_type": "code",
      "metadata": {
        "colab": {
          "base_uri": "https://localhost:8080/"
        },
        "id": "-YA8Y3c2wPlj",
        "outputId": "92f45d58-872f-4a4a-fc29-321ef091abba"
      },
      "source": [
        "# Drop the non-beneficial ID columns, 'EIN' and 'NAME'.\n",
        "#  YOUR CODE GOES HERE\n",
        "application_df = application_df.drop([\"EIN\",\"NAME\"],axis=1)\n",
        "application_df.shape"
      ],
      "execution_count": null,
      "outputs": [
        {
          "output_type": "execute_result",
          "data": {
            "text/plain": [
              "(34299, 10)"
            ]
          },
          "metadata": {},
          "execution_count": 3
        }
      ]
    },
    {
      "cell_type": "code",
      "metadata": {
        "colab": {
          "base_uri": "https://localhost:8080/"
        },
        "id": "vu-FzsNVwPlk",
        "outputId": "72384478-3c68-4596-caa4-b76178d6d1b5"
      },
      "source": [
        "# Determine the number of unique values in each column.\n",
        "#  YOUR CODE GOES HERE\n",
        "application_df.nunique()"
      ],
      "execution_count": null,
      "outputs": [
        {
          "output_type": "execute_result",
          "data": {
            "text/plain": [
              "APPLICATION_TYPE            17\n",
              "AFFILIATION                  6\n",
              "CLASSIFICATION              71\n",
              "USE_CASE                     5\n",
              "ORGANIZATION                 4\n",
              "STATUS                       2\n",
              "INCOME_AMT                   9\n",
              "SPECIAL_CONSIDERATIONS       2\n",
              "ASK_AMT                   8747\n",
              "IS_SUCCESSFUL                2\n",
              "dtype: int64"
            ]
          },
          "metadata": {},
          "execution_count": 4
        }
      ]
    },
    {
      "cell_type": "code",
      "metadata": {
        "colab": {
          "base_uri": "https://localhost:8080/"
        },
        "id": "_ytz4VFZwPlk",
        "outputId": "ab66feaa-840d-4e82-cdf6-32f2499deaf2"
      },
      "source": [
        "# Look at APPLICATION_TYPE value counts for binning\n",
        "#  YOUR CODE GOES HERE\n",
        "application_value = application_df.loc[:,'APPLICATION_TYPE'].value_counts(normalize= True)\n",
        "application_value"
      ],
      "execution_count": null,
      "outputs": [
        {
          "output_type": "execute_result",
          "data": {
            "text/plain": [
              "T3     0.788274\n",
              "T4     0.044958\n",
              "T6     0.035453\n",
              "T5     0.034199\n",
              "T19    0.031050\n",
              "T8     0.021488\n",
              "T7     0.021138\n",
              "T10    0.015394\n",
              "T9     0.004548\n",
              "T13    0.001924\n",
              "T12    0.000787\n",
              "T2     0.000466\n",
              "T25    0.000087\n",
              "T14    0.000087\n",
              "T29    0.000058\n",
              "T15    0.000058\n",
              "T17    0.000029\n",
              "Name: APPLICATION_TYPE, dtype: float64"
            ]
          },
          "metadata": {},
          "execution_count": 5
        }
      ]
    },
    {
      "cell_type": "code",
      "metadata": {
        "colab": {
          "base_uri": "https://localhost:8080/"
        },
        "id": "aDLo2yZxwPll",
        "outputId": "f7277f8b-4002-483a-cb2a-c099b3d75143"
      },
      "source": [
        "# Choose a cutoff value and create a list of application types to be replaced\n",
        "# use the variable name `application_types_to_replace`\n",
        "#  YOUR CODE GOES HERE\n",
        "application_types_to_replace = list(application_value[application_value<=0.031050].index)\n",
        "# Replace in dataframe\n",
        "for app in application_types_to_replace:\n",
        "    application_df['APPLICATION_TYPE'] = application_df['APPLICATION_TYPE'].replace(app,\"Other\")\n",
        "\n",
        "# Check to make sure binning was successful\n",
        "application_df['APPLICATION_TYPE'].value_counts()"
      ],
      "execution_count": null,
      "outputs": [
        {
          "output_type": "execute_result",
          "data": {
            "text/plain": [
              "T3       27037\n",
              "Other     2266\n",
              "T4        1542\n",
              "T6        1216\n",
              "T5        1173\n",
              "T19       1065\n",
              "Name: APPLICATION_TYPE, dtype: int64"
            ]
          },
          "metadata": {},
          "execution_count": 6
        }
      ]
    },
    {
      "cell_type": "code",
      "metadata": {
        "id": "q0R7mQapwPlm",
        "colab": {
          "base_uri": "https://localhost:8080/"
        },
        "outputId": "e9820650-e13c-4991-d167-9216cce266e5"
      },
      "source": [
        "# Look at CLASSIFICATION value counts for binning\n",
        "#TRYING TO GET 90% OF DATA USING NORMALIZE =TRUE\n",
        "#  YOUR CODE GOES HERE\n",
        "classification_value = application_df.loc[:,'CLASSIFICATION'].value_counts(normalize = False)\n",
        "classification_value"
      ],
      "execution_count": null,
      "outputs": [
        {
          "output_type": "execute_result",
          "data": {
            "text/plain": [
              "C1000    17326\n",
              "C2000     6074\n",
              "C1200     4837\n",
              "C3000     1918\n",
              "C2100     1883\n",
              "         ...  \n",
              "C5200        1\n",
              "C1236        1\n",
              "C1370        1\n",
              "C6100        1\n",
              "C1570        1\n",
              "Name: CLASSIFICATION, Length: 71, dtype: int64"
            ]
          },
          "metadata": {},
          "execution_count": 7
        }
      ]
    },
    {
      "cell_type": "code",
      "metadata": {
        "id": "Njt-7CypwPlm",
        "colab": {
          "base_uri": "https://localhost:8080/"
        },
        "outputId": "f7697433-fdf7-4d74-bbb8-8b30f00bcd50"
      },
      "source": [
        "# You may find it helpful to look at CLASSIFICATION value counts >1\n",
        "#  YOUR CODE GOES HERE\n",
        "classification_types_to_replace = list(classification_value[classification_value < 1883].index)\n",
        "classification_types_to_replace"
      ],
      "execution_count": null,
      "outputs": [
        {
          "output_type": "execute_result",
          "data": {
            "text/plain": [
              "['C7000',\n",
              " 'C1700',\n",
              " 'C4000',\n",
              " 'C5000',\n",
              " 'C1270',\n",
              " 'C2700',\n",
              " 'C2800',\n",
              " 'C7100',\n",
              " 'C1300',\n",
              " 'C1280',\n",
              " 'C1230',\n",
              " 'C1400',\n",
              " 'C7200',\n",
              " 'C2300',\n",
              " 'C1240',\n",
              " 'C8000',\n",
              " 'C7120',\n",
              " 'C1500',\n",
              " 'C1800',\n",
              " 'C6000',\n",
              " 'C1250',\n",
              " 'C8200',\n",
              " 'C1278',\n",
              " 'C1238',\n",
              " 'C1237',\n",
              " 'C1235',\n",
              " 'C7210',\n",
              " 'C1720',\n",
              " 'C4100',\n",
              " 'C2400',\n",
              " 'C1257',\n",
              " 'C1600',\n",
              " 'C1260',\n",
              " 'C2710',\n",
              " 'C0',\n",
              " 'C1234',\n",
              " 'C1267',\n",
              " 'C1246',\n",
              " 'C3200',\n",
              " 'C1256',\n",
              " 'C4200',\n",
              " 'C1820',\n",
              " 'C4120',\n",
              " 'C2190',\n",
              " 'C1732',\n",
              " 'C2380',\n",
              " 'C1580',\n",
              " 'C2561',\n",
              " 'C1900',\n",
              " 'C2150',\n",
              " 'C2500',\n",
              " 'C4500',\n",
              " 'C2170',\n",
              " 'C8210',\n",
              " 'C3700',\n",
              " 'C1283',\n",
              " 'C1248',\n",
              " 'C2600',\n",
              " 'C1728',\n",
              " 'C1245',\n",
              " 'C2570',\n",
              " 'C5200',\n",
              " 'C1236',\n",
              " 'C1370',\n",
              " 'C6100',\n",
              " 'C1570']"
            ]
          },
          "metadata": {},
          "execution_count": 8
        }
      ]
    },
    {
      "cell_type": "code",
      "metadata": {
        "id": "onetGza7wPln",
        "colab": {
          "base_uri": "https://localhost:8080/"
        },
        "outputId": "119b5b29-e913-4230-bd4a-dd4a7890d808"
      },
      "source": [
        "# Choose a cutoff value and create a list of classifications to be replaced\n",
        "# use the variable name `classifications_to_replace`\n",
        "#  YOUR CODE GOES HERE\n",
        "#TRYING TO ELIMINATE OUTLIERS BY GETTING 90% OF DATA\n",
        "\n",
        "# Replace in dataframe\n",
        "for cls in classification_types_to_replace:\n",
        "    application_df['CLASSIFICATION'] = application_df['CLASSIFICATION'].replace(cls,\"Other\")\n",
        "    \n",
        "# Check to make sure binning was successful\n",
        "application_df['CLASSIFICATION'].value_counts()"
      ],
      "execution_count": null,
      "outputs": [
        {
          "output_type": "execute_result",
          "data": {
            "text/plain": [
              "C1000    17326\n",
              "C2000     6074\n",
              "C1200     4837\n",
              "Other     2261\n",
              "C3000     1918\n",
              "C2100     1883\n",
              "Name: CLASSIFICATION, dtype: int64"
            ]
          },
          "metadata": {},
          "execution_count": 9
        }
      ]
    },
    {
      "cell_type": "code",
      "metadata": {
        "id": "Dh0y2VEUILfn"
      },
      "source": [
        ""
      ],
      "execution_count": null,
      "outputs": []
    },
    {
      "cell_type": "code",
      "metadata": {
        "colab": {
          "base_uri": "https://localhost:8080/"
        },
        "id": "utTXXTiuIFl4",
        "outputId": "f919d5bf-9338-451e-e4f6-1ec05426f86b"
      },
      "source": [
        "application_df.info()"
      ],
      "execution_count": null,
      "outputs": [
        {
          "output_type": "stream",
          "name": "stdout",
          "text": [
            "<class 'pandas.core.frame.DataFrame'>\n",
            "RangeIndex: 34299 entries, 0 to 34298\n",
            "Data columns (total 10 columns):\n",
            " #   Column                  Non-Null Count  Dtype \n",
            "---  ------                  --------------  ----- \n",
            " 0   APPLICATION_TYPE        34299 non-null  object\n",
            " 1   AFFILIATION             34299 non-null  object\n",
            " 2   CLASSIFICATION          34299 non-null  object\n",
            " 3   USE_CASE                34299 non-null  object\n",
            " 4   ORGANIZATION            34299 non-null  object\n",
            " 5   STATUS                  34299 non-null  int64 \n",
            " 6   INCOME_AMT              34299 non-null  object\n",
            " 7   SPECIAL_CONSIDERATIONS  34299 non-null  object\n",
            " 8   ASK_AMT                 34299 non-null  int64 \n",
            " 9   IS_SUCCESSFUL           34299 non-null  int64 \n",
            "dtypes: int64(3), object(7)\n",
            "memory usage: 2.6+ MB\n"
          ]
        }
      ]
    },
    {
      "cell_type": "code",
      "metadata": {
        "colab": {
          "base_uri": "https://localhost:8080/"
        },
        "id": "3S8JfAN9Ihso",
        "outputId": "001c8934-b22a-4143-f740-d1c17bf90066"
      },
      "source": [
        "x_APP = application_df.drop('IS_SUCCESSFUL', axis=1)\n",
        "X = pd.get_dummies(x_APP)\n",
        "X.shape"
      ],
      "execution_count": null,
      "outputs": [
        {
          "output_type": "execute_result",
          "data": {
            "text/plain": [
              "(34299, 40)"
            ]
          },
          "metadata": {},
          "execution_count": 14
        }
      ]
    },
    {
      "cell_type": "code",
      "metadata": {
        "colab": {
          "base_uri": "https://localhost:8080/",
          "height": 241
        },
        "id": "FKPlOCo7JE6-",
        "outputId": "b5026841-9bfb-45c9-a2bf-e9bdbc68650b"
      },
      "source": [
        "X.head()"
      ],
      "execution_count": null,
      "outputs": [
        {
          "output_type": "execute_result",
          "data": {
            "text/html": [
              "<div>\n",
              "<style scoped>\n",
              "    .dataframe tbody tr th:only-of-type {\n",
              "        vertical-align: middle;\n",
              "    }\n",
              "\n",
              "    .dataframe tbody tr th {\n",
              "        vertical-align: top;\n",
              "    }\n",
              "\n",
              "    .dataframe thead th {\n",
              "        text-align: right;\n",
              "    }\n",
              "</style>\n",
              "<table border=\"1\" class=\"dataframe\">\n",
              "  <thead>\n",
              "    <tr style=\"text-align: right;\">\n",
              "      <th></th>\n",
              "      <th>STATUS</th>\n",
              "      <th>ASK_AMT</th>\n",
              "      <th>APPLICATION_TYPE_Other</th>\n",
              "      <th>APPLICATION_TYPE_T19</th>\n",
              "      <th>APPLICATION_TYPE_T3</th>\n",
              "      <th>APPLICATION_TYPE_T4</th>\n",
              "      <th>APPLICATION_TYPE_T5</th>\n",
              "      <th>APPLICATION_TYPE_T6</th>\n",
              "      <th>AFFILIATION_CompanySponsored</th>\n",
              "      <th>AFFILIATION_Family/Parent</th>\n",
              "      <th>AFFILIATION_Independent</th>\n",
              "      <th>AFFILIATION_National</th>\n",
              "      <th>AFFILIATION_Other</th>\n",
              "      <th>AFFILIATION_Regional</th>\n",
              "      <th>CLASSIFICATION_C1000</th>\n",
              "      <th>CLASSIFICATION_C1200</th>\n",
              "      <th>CLASSIFICATION_C2000</th>\n",
              "      <th>CLASSIFICATION_C2100</th>\n",
              "      <th>CLASSIFICATION_C3000</th>\n",
              "      <th>CLASSIFICATION_Other</th>\n",
              "      <th>USE_CASE_CommunityServ</th>\n",
              "      <th>USE_CASE_Heathcare</th>\n",
              "      <th>USE_CASE_Other</th>\n",
              "      <th>USE_CASE_Preservation</th>\n",
              "      <th>USE_CASE_ProductDev</th>\n",
              "      <th>ORGANIZATION_Association</th>\n",
              "      <th>ORGANIZATION_Co-operative</th>\n",
              "      <th>ORGANIZATION_Corporation</th>\n",
              "      <th>ORGANIZATION_Trust</th>\n",
              "      <th>INCOME_AMT_0</th>\n",
              "      <th>INCOME_AMT_1-9999</th>\n",
              "      <th>INCOME_AMT_10000-24999</th>\n",
              "      <th>INCOME_AMT_100000-499999</th>\n",
              "      <th>INCOME_AMT_10M-50M</th>\n",
              "      <th>INCOME_AMT_1M-5M</th>\n",
              "      <th>INCOME_AMT_25000-99999</th>\n",
              "      <th>INCOME_AMT_50M+</th>\n",
              "      <th>INCOME_AMT_5M-10M</th>\n",
              "      <th>SPECIAL_CONSIDERATIONS_N</th>\n",
              "      <th>SPECIAL_CONSIDERATIONS_Y</th>\n",
              "    </tr>\n",
              "  </thead>\n",
              "  <tbody>\n",
              "    <tr>\n",
              "      <th>0</th>\n",
              "      <td>1</td>\n",
              "      <td>5000</td>\n",
              "      <td>1</td>\n",
              "      <td>0</td>\n",
              "      <td>0</td>\n",
              "      <td>0</td>\n",
              "      <td>0</td>\n",
              "      <td>0</td>\n",
              "      <td>0</td>\n",
              "      <td>0</td>\n",
              "      <td>1</td>\n",
              "      <td>0</td>\n",
              "      <td>0</td>\n",
              "      <td>0</td>\n",
              "      <td>1</td>\n",
              "      <td>0</td>\n",
              "      <td>0</td>\n",
              "      <td>0</td>\n",
              "      <td>0</td>\n",
              "      <td>0</td>\n",
              "      <td>0</td>\n",
              "      <td>0</td>\n",
              "      <td>0</td>\n",
              "      <td>0</td>\n",
              "      <td>1</td>\n",
              "      <td>1</td>\n",
              "      <td>0</td>\n",
              "      <td>0</td>\n",
              "      <td>0</td>\n",
              "      <td>1</td>\n",
              "      <td>0</td>\n",
              "      <td>0</td>\n",
              "      <td>0</td>\n",
              "      <td>0</td>\n",
              "      <td>0</td>\n",
              "      <td>0</td>\n",
              "      <td>0</td>\n",
              "      <td>0</td>\n",
              "      <td>1</td>\n",
              "      <td>0</td>\n",
              "    </tr>\n",
              "    <tr>\n",
              "      <th>1</th>\n",
              "      <td>1</td>\n",
              "      <td>108590</td>\n",
              "      <td>0</td>\n",
              "      <td>0</td>\n",
              "      <td>1</td>\n",
              "      <td>0</td>\n",
              "      <td>0</td>\n",
              "      <td>0</td>\n",
              "      <td>0</td>\n",
              "      <td>0</td>\n",
              "      <td>1</td>\n",
              "      <td>0</td>\n",
              "      <td>0</td>\n",
              "      <td>0</td>\n",
              "      <td>0</td>\n",
              "      <td>0</td>\n",
              "      <td>1</td>\n",
              "      <td>0</td>\n",
              "      <td>0</td>\n",
              "      <td>0</td>\n",
              "      <td>0</td>\n",
              "      <td>0</td>\n",
              "      <td>0</td>\n",
              "      <td>1</td>\n",
              "      <td>0</td>\n",
              "      <td>0</td>\n",
              "      <td>1</td>\n",
              "      <td>0</td>\n",
              "      <td>0</td>\n",
              "      <td>0</td>\n",
              "      <td>1</td>\n",
              "      <td>0</td>\n",
              "      <td>0</td>\n",
              "      <td>0</td>\n",
              "      <td>0</td>\n",
              "      <td>0</td>\n",
              "      <td>0</td>\n",
              "      <td>0</td>\n",
              "      <td>1</td>\n",
              "      <td>0</td>\n",
              "    </tr>\n",
              "    <tr>\n",
              "      <th>2</th>\n",
              "      <td>1</td>\n",
              "      <td>5000</td>\n",
              "      <td>0</td>\n",
              "      <td>0</td>\n",
              "      <td>0</td>\n",
              "      <td>0</td>\n",
              "      <td>1</td>\n",
              "      <td>0</td>\n",
              "      <td>1</td>\n",
              "      <td>0</td>\n",
              "      <td>0</td>\n",
              "      <td>0</td>\n",
              "      <td>0</td>\n",
              "      <td>0</td>\n",
              "      <td>0</td>\n",
              "      <td>0</td>\n",
              "      <td>0</td>\n",
              "      <td>0</td>\n",
              "      <td>1</td>\n",
              "      <td>0</td>\n",
              "      <td>0</td>\n",
              "      <td>0</td>\n",
              "      <td>0</td>\n",
              "      <td>0</td>\n",
              "      <td>1</td>\n",
              "      <td>1</td>\n",
              "      <td>0</td>\n",
              "      <td>0</td>\n",
              "      <td>0</td>\n",
              "      <td>1</td>\n",
              "      <td>0</td>\n",
              "      <td>0</td>\n",
              "      <td>0</td>\n",
              "      <td>0</td>\n",
              "      <td>0</td>\n",
              "      <td>0</td>\n",
              "      <td>0</td>\n",
              "      <td>0</td>\n",
              "      <td>1</td>\n",
              "      <td>0</td>\n",
              "    </tr>\n",
              "    <tr>\n",
              "      <th>3</th>\n",
              "      <td>1</td>\n",
              "      <td>6692</td>\n",
              "      <td>0</td>\n",
              "      <td>0</td>\n",
              "      <td>1</td>\n",
              "      <td>0</td>\n",
              "      <td>0</td>\n",
              "      <td>0</td>\n",
              "      <td>1</td>\n",
              "      <td>0</td>\n",
              "      <td>0</td>\n",
              "      <td>0</td>\n",
              "      <td>0</td>\n",
              "      <td>0</td>\n",
              "      <td>0</td>\n",
              "      <td>0</td>\n",
              "      <td>1</td>\n",
              "      <td>0</td>\n",
              "      <td>0</td>\n",
              "      <td>0</td>\n",
              "      <td>0</td>\n",
              "      <td>0</td>\n",
              "      <td>0</td>\n",
              "      <td>1</td>\n",
              "      <td>0</td>\n",
              "      <td>0</td>\n",
              "      <td>0</td>\n",
              "      <td>0</td>\n",
              "      <td>1</td>\n",
              "      <td>0</td>\n",
              "      <td>0</td>\n",
              "      <td>1</td>\n",
              "      <td>0</td>\n",
              "      <td>0</td>\n",
              "      <td>0</td>\n",
              "      <td>0</td>\n",
              "      <td>0</td>\n",
              "      <td>0</td>\n",
              "      <td>1</td>\n",
              "      <td>0</td>\n",
              "    </tr>\n",
              "    <tr>\n",
              "      <th>4</th>\n",
              "      <td>1</td>\n",
              "      <td>142590</td>\n",
              "      <td>0</td>\n",
              "      <td>0</td>\n",
              "      <td>1</td>\n",
              "      <td>0</td>\n",
              "      <td>0</td>\n",
              "      <td>0</td>\n",
              "      <td>0</td>\n",
              "      <td>0</td>\n",
              "      <td>1</td>\n",
              "      <td>0</td>\n",
              "      <td>0</td>\n",
              "      <td>0</td>\n",
              "      <td>1</td>\n",
              "      <td>0</td>\n",
              "      <td>0</td>\n",
              "      <td>0</td>\n",
              "      <td>0</td>\n",
              "      <td>0</td>\n",
              "      <td>0</td>\n",
              "      <td>1</td>\n",
              "      <td>0</td>\n",
              "      <td>0</td>\n",
              "      <td>0</td>\n",
              "      <td>0</td>\n",
              "      <td>0</td>\n",
              "      <td>0</td>\n",
              "      <td>1</td>\n",
              "      <td>0</td>\n",
              "      <td>0</td>\n",
              "      <td>0</td>\n",
              "      <td>1</td>\n",
              "      <td>0</td>\n",
              "      <td>0</td>\n",
              "      <td>0</td>\n",
              "      <td>0</td>\n",
              "      <td>0</td>\n",
              "      <td>1</td>\n",
              "      <td>0</td>\n",
              "    </tr>\n",
              "  </tbody>\n",
              "</table>\n",
              "</div>"
            ],
            "text/plain": [
              "   STATUS  ASK_AMT  ...  SPECIAL_CONSIDERATIONS_N  SPECIAL_CONSIDERATIONS_Y\n",
              "0       1     5000  ...                         1                         0\n",
              "1       1   108590  ...                         1                         0\n",
              "2       1     5000  ...                         1                         0\n",
              "3       1     6692  ...                         1                         0\n",
              "4       1   142590  ...                         1                         0\n",
              "\n",
              "[5 rows x 40 columns]"
            ]
          },
          "metadata": {},
          "execution_count": 15
        }
      ]
    },
    {
      "cell_type": "code",
      "metadata": {
        "id": "kIsRwOckwPlo",
        "colab": {
          "base_uri": "https://localhost:8080/"
        },
        "outputId": "9c6f561b-4dbb-4301-8342-77cd81fa99e2"
      },
      "source": [
        "# Convert categorical data to numeric with `pd.get_dummies`\n",
        "#  YOUR CODE GOES HERE\n",
        "y = application_df.IS_SUCCESSFUL.values\n",
        "y.shape"
      ],
      "execution_count": null,
      "outputs": [
        {
          "output_type": "execute_result",
          "data": {
            "text/plain": [
              "(34299,)"
            ]
          },
          "metadata": {},
          "execution_count": 11
        }
      ]
    },
    {
      "cell_type": "code",
      "metadata": {
        "colab": {
          "base_uri": "https://localhost:8080/"
        },
        "id": "DMMvvqvxKcXF",
        "outputId": "63d2f747-f6b1-42a5-b72c-367afbf59592"
      },
      "source": [
        "application_df.IS_SUCCESSFUL.value_counts()"
      ],
      "execution_count": null,
      "outputs": [
        {
          "output_type": "execute_result",
          "data": {
            "text/plain": [
              "1    18261\n",
              "0    16038\n",
              "Name: IS_SUCCESSFUL, dtype: int64"
            ]
          },
          "metadata": {},
          "execution_count": 12
        }
      ]
    },
    {
      "cell_type": "code",
      "metadata": {
        "id": "EO-FaBVrwPlo"
      },
      "source": [
        "# Split our preprocessed data into our features and target arrays\n",
        "#  YOUR CODE GOES HERE\n",
        "X_train, X_test, y_train, y_test = train_test_split(X, y, random_state=42)\n",
        "\n",
        "# Split the preprocessed data into a training and testing dataset\n",
        "#  YOUR CODE GOES HERE"
      ],
      "execution_count": null,
      "outputs": []
    },
    {
      "cell_type": "code",
      "metadata": {
        "id": "x92KZsYSwPlo"
      },
      "source": [
        "# Create a StandardScaler instances\n",
        "scaler = StandardScaler()\n",
        "\n",
        "# Fit the StandardScaler\n",
        "X_scaler = scaler.fit(X_train)\n",
        "\n",
        "# Scale the data\n",
        "X_train_scaled = X_scaler.transform(X_train)\n",
        "X_test_scaled = X_scaler.transform(X_test)"
      ],
      "execution_count": null,
      "outputs": []
    },
    {
      "cell_type": "markdown",
      "metadata": {
        "id": "_qT-sTbXwPlp"
      },
      "source": [
        "## Compile, Train and Evaluate the Model"
      ]
    },
    {
      "cell_type": "code",
      "metadata": {
        "id": "4_ErBuVMwPlp",
        "colab": {
          "base_uri": "https://localhost:8080/"
        },
        "outputId": "99c36962-c04b-49c3-ee17-b0f908244c77"
      },
      "source": [
        "# Define the model - deep neural net, i.e., the number of input features and hidden nodes for each layer.\n",
        "#  YOUR CODE GOES HERE\n",
        "#FIRST MODEL HAS GOT TRAIN_DATA ACCURACY = 0.729, TEST_DATA ACCURACY = 0.734 ITS A UNDERFIT\n",
        "\n",
        "# Define the deep learning model \n",
        "nn_model = tf.keras.models.Sequential()\n",
        "nn_model.add(tf.keras.layers.Dense(units=50, activation=\"relu\"))\n",
        "nn_model.add(tf.keras.layers.Dense(units=50, activation=\"relu\"))\n",
        "nn_model.add(tf.keras.layers.Dense(units=1, activation=\"sigmoid\"))\n",
        "\n",
        "# Compile the Sequential model together and customize metrics\n",
        "nn_model.compile(loss=\"binary_crossentropy\", optimizer=\"adam\", metrics=[\"accuracy\"])\n",
        "\n",
        "# Train the model\n",
        "fit_model = nn_model.fit(X_train_scaled, y_train, epochs=60)\n",
        "\n",
        "# Evaluate the model using the test data\n",
        "model_loss, model_accuracy = nn_model.evaluate(X_test_scaled,y_test,verbose=2)\n",
        "print(f\"Loss: {model_loss}, Accuracy: {model_accuracy}\")\n",
        "\n",
        "# First hidden layer\n",
        "#  YOUR CODE GOES HERE\n",
        "\n",
        "# Second hidden layer\n",
        "#  YOUR CODE GOES HERE\n",
        "\n",
        "# Output layer\n",
        "#  YOUR CODE GOES HERE\n",
        "\n",
        "# Check the structure of the model\n",
        "nn_model.summary()"
      ],
      "execution_count": null,
      "outputs": [
        {
          "output_type": "stream",
          "name": "stdout",
          "text": [
            "Epoch 1/60\n",
            "804/804 [==============================] - 2s 2ms/step - loss: 0.5780 - accuracy: 0.7178\n",
            "Epoch 2/60\n",
            "804/804 [==============================] - 1s 2ms/step - loss: 0.5617 - accuracy: 0.7272\n",
            "Epoch 3/60\n",
            "804/804 [==============================] - 1s 2ms/step - loss: 0.5570 - accuracy: 0.7299\n",
            "Epoch 4/60\n",
            "804/804 [==============================] - 1s 2ms/step - loss: 0.5555 - accuracy: 0.7292\n",
            "Epoch 5/60\n",
            "804/804 [==============================] - 1s 2ms/step - loss: 0.5545 - accuracy: 0.7299\n",
            "Epoch 6/60\n",
            "804/804 [==============================] - 1s 2ms/step - loss: 0.5530 - accuracy: 0.7311\n",
            "Epoch 7/60\n",
            "804/804 [==============================] - 1s 2ms/step - loss: 0.5526 - accuracy: 0.7317\n",
            "Epoch 8/60\n",
            "804/804 [==============================] - 1s 2ms/step - loss: 0.5523 - accuracy: 0.7316\n",
            "Epoch 9/60\n",
            "804/804 [==============================] - 1s 2ms/step - loss: 0.5511 - accuracy: 0.7320\n",
            "Epoch 10/60\n",
            "804/804 [==============================] - 1s 2ms/step - loss: 0.5505 - accuracy: 0.7325\n",
            "Epoch 11/60\n",
            "804/804 [==============================] - 1s 2ms/step - loss: 0.5496 - accuracy: 0.7320\n",
            "Epoch 12/60\n",
            "804/804 [==============================] - 1s 2ms/step - loss: 0.5500 - accuracy: 0.7316\n",
            "Epoch 13/60\n",
            "804/804 [==============================] - 1s 2ms/step - loss: 0.5488 - accuracy: 0.7315\n",
            "Epoch 14/60\n",
            "804/804 [==============================] - 1s 2ms/step - loss: 0.5491 - accuracy: 0.7331\n",
            "Epoch 15/60\n",
            "804/804 [==============================] - 1s 2ms/step - loss: 0.5481 - accuracy: 0.7338\n",
            "Epoch 16/60\n",
            "804/804 [==============================] - 1s 2ms/step - loss: 0.5482 - accuracy: 0.7331\n",
            "Epoch 17/60\n",
            "804/804 [==============================] - 1s 2ms/step - loss: 0.5478 - accuracy: 0.7327\n",
            "Epoch 18/60\n",
            "804/804 [==============================] - 1s 2ms/step - loss: 0.5476 - accuracy: 0.7329\n",
            "Epoch 19/60\n",
            "804/804 [==============================] - 1s 2ms/step - loss: 0.5476 - accuracy: 0.7333\n",
            "Epoch 20/60\n",
            "804/804 [==============================] - 1s 2ms/step - loss: 0.5470 - accuracy: 0.7343\n",
            "Epoch 21/60\n",
            "804/804 [==============================] - 1s 2ms/step - loss: 0.5469 - accuracy: 0.7346\n",
            "Epoch 22/60\n",
            "804/804 [==============================] - 1s 2ms/step - loss: 0.5461 - accuracy: 0.7348\n",
            "Epoch 23/60\n",
            "804/804 [==============================] - 1s 2ms/step - loss: 0.5463 - accuracy: 0.7350\n",
            "Epoch 24/60\n",
            "804/804 [==============================] - 1s 2ms/step - loss: 0.5460 - accuracy: 0.7341\n",
            "Epoch 25/60\n",
            "804/804 [==============================] - 1s 2ms/step - loss: 0.5456 - accuracy: 0.7346\n",
            "Epoch 26/60\n",
            "804/804 [==============================] - 1s 2ms/step - loss: 0.5464 - accuracy: 0.7344\n",
            "Epoch 27/60\n",
            "804/804 [==============================] - 1s 2ms/step - loss: 0.5455 - accuracy: 0.7355\n",
            "Epoch 28/60\n",
            "804/804 [==============================] - 1s 2ms/step - loss: 0.5454 - accuracy: 0.7353\n",
            "Epoch 29/60\n",
            "804/804 [==============================] - 1s 2ms/step - loss: 0.5454 - accuracy: 0.7339\n",
            "Epoch 30/60\n",
            "804/804 [==============================] - 1s 2ms/step - loss: 0.5452 - accuracy: 0.7347\n",
            "Epoch 31/60\n",
            "804/804 [==============================] - 1s 2ms/step - loss: 0.5448 - accuracy: 0.7360\n",
            "Epoch 32/60\n",
            "804/804 [==============================] - 1s 2ms/step - loss: 0.5447 - accuracy: 0.7365\n",
            "Epoch 33/60\n",
            "804/804 [==============================] - 1s 2ms/step - loss: 0.5443 - accuracy: 0.7361\n",
            "Epoch 34/60\n",
            "804/804 [==============================] - 1s 2ms/step - loss: 0.5442 - accuracy: 0.7364\n",
            "Epoch 35/60\n",
            "804/804 [==============================] - 2s 2ms/step - loss: 0.5441 - accuracy: 0.7373\n",
            "Epoch 36/60\n",
            "804/804 [==============================] - 1s 2ms/step - loss: 0.5439 - accuracy: 0.7360\n",
            "Epoch 37/60\n",
            "804/804 [==============================] - 1s 2ms/step - loss: 0.5441 - accuracy: 0.7367\n",
            "Epoch 38/60\n",
            "804/804 [==============================] - 1s 2ms/step - loss: 0.5434 - accuracy: 0.7366\n",
            "Epoch 39/60\n",
            "804/804 [==============================] - 1s 2ms/step - loss: 0.5437 - accuracy: 0.7363\n",
            "Epoch 40/60\n",
            "804/804 [==============================] - 1s 2ms/step - loss: 0.5437 - accuracy: 0.7366\n",
            "Epoch 41/60\n",
            "804/804 [==============================] - 1s 2ms/step - loss: 0.5435 - accuracy: 0.7367\n",
            "Epoch 42/60\n",
            "804/804 [==============================] - 1s 2ms/step - loss: 0.5434 - accuracy: 0.7363\n",
            "Epoch 43/60\n",
            "804/804 [==============================] - 1s 2ms/step - loss: 0.5430 - accuracy: 0.7375\n",
            "Epoch 44/60\n",
            "804/804 [==============================] - 1s 2ms/step - loss: 0.5427 - accuracy: 0.7372\n",
            "Epoch 45/60\n",
            "804/804 [==============================] - 1s 2ms/step - loss: 0.5428 - accuracy: 0.7364\n",
            "Epoch 46/60\n",
            "804/804 [==============================] - 1s 2ms/step - loss: 0.5426 - accuracy: 0.7372\n",
            "Epoch 47/60\n",
            "804/804 [==============================] - 1s 2ms/step - loss: 0.5424 - accuracy: 0.7374\n",
            "Epoch 48/60\n",
            "804/804 [==============================] - 1s 2ms/step - loss: 0.5426 - accuracy: 0.7372\n",
            "Epoch 49/60\n",
            "804/804 [==============================] - 1s 2ms/step - loss: 0.5421 - accuracy: 0.7367\n",
            "Epoch 50/60\n",
            "804/804 [==============================] - 1s 2ms/step - loss: 0.5427 - accuracy: 0.7373\n",
            "Epoch 51/60\n",
            "804/804 [==============================] - 1s 2ms/step - loss: 0.5422 - accuracy: 0.7365\n",
            "Epoch 52/60\n",
            "804/804 [==============================] - 1s 2ms/step - loss: 0.5424 - accuracy: 0.7371\n",
            "Epoch 53/60\n",
            "804/804 [==============================] - 2s 2ms/step - loss: 0.5418 - accuracy: 0.7375\n",
            "Epoch 54/60\n",
            "804/804 [==============================] - 2s 2ms/step - loss: 0.5420 - accuracy: 0.7374\n",
            "Epoch 55/60\n",
            "804/804 [==============================] - 1s 2ms/step - loss: 0.5421 - accuracy: 0.7372\n",
            "Epoch 56/60\n",
            "804/804 [==============================] - 1s 2ms/step - loss: 0.5419 - accuracy: 0.7370\n",
            "Epoch 57/60\n",
            "804/804 [==============================] - 1s 2ms/step - loss: 0.5419 - accuracy: 0.7371\n",
            "Epoch 58/60\n",
            "804/804 [==============================] - 1s 2ms/step - loss: 0.5420 - accuracy: 0.7359\n",
            "Epoch 59/60\n",
            "804/804 [==============================] - 1s 2ms/step - loss: 0.5414 - accuracy: 0.7368\n",
            "Epoch 60/60\n",
            "804/804 [==============================] - 1s 2ms/step - loss: 0.5414 - accuracy: 0.7372\n",
            "268/268 - 0s - loss: 0.5596 - accuracy: 0.7285\n",
            "Loss: 0.5596306324005127, Accuracy: 0.7285131216049194\n",
            "Model: \"sequential\"\n",
            "_________________________________________________________________\n",
            "Layer (type)                 Output Shape              Param #   \n",
            "=================================================================\n",
            "dense (Dense)                (None, 50)                2050      \n",
            "_________________________________________________________________\n",
            "dense_1 (Dense)              (None, 50)                2550      \n",
            "_________________________________________________________________\n",
            "dense_2 (Dense)              (None, 1)                 51        \n",
            "=================================================================\n",
            "Total params: 4,651\n",
            "Trainable params: 4,651\n",
            "Non-trainable params: 0\n",
            "_________________________________________________________________\n"
          ]
        }
      ]
    },
    {
      "cell_type": "code",
      "metadata": {
        "id": "muTbEB-JwPlp",
        "colab": {
          "base_uri": "https://localhost:8080/",
          "height": 282
        },
        "outputId": "3bc42e08-ee1e-4613-cbd2-92e5ea583e2a"
      },
      "source": [
        "# Create a DataFrame containing training history\n",
        "application_df = pd.DataFrame(fit_model.history)\n",
        "\n",
        "# Increase the index by 1 to match the number of epochs\n",
        "application_df.index += 1\n",
        "\n",
        "# Plot the loss\n",
        "application_df.plot(y=\"loss\")"
      ],
      "execution_count": null,
      "outputs": [
        {
          "output_type": "execute_result",
          "data": {
            "text/plain": [
              "<matplotlib.axes._subplots.AxesSubplot at 0x7f8a54bada50>"
            ]
          },
          "metadata": {},
          "execution_count": 19
        },
        {
          "output_type": "display_data",
          "data": {
            "image/png": "[encoded data removed]",
            "text/plain": [
              "<Figure size 432x288 with 1 Axes>"
            ]
          },
          "metadata": {
            "needs_background": "light"
          }
        }
      ]
    },
    {
      "cell_type": "code",
      "metadata": {
        "colab": {
          "base_uri": "https://localhost:8080/",
          "height": 282
        },
        "id": "Lx_JzgSjARIg",
        "outputId": "f38cf3d8-67d9-4167-c8b1-ebdc03d25740"
      },
      "source": [
        "# Plot the accuracy\n",
        "application_df.plot(y=\"accuracy\")"
      ],
      "execution_count": null,
      "outputs": [
        {
          "output_type": "execute_result",
          "data": {
            "text/plain": [
              "<matplotlib.axes._subplots.AxesSubplot at 0x7f8a53220e90>"
            ]
          },
          "metadata": {},
          "execution_count": 20
        },
        {
          "output_type": "display_data",
          "data": {
            "image/png": "[encoded data removed]",
            "text/plain": [
              "<Figure size 432x288 with 1 Axes>"
            ]
          },
          "metadata": {
            "needs_background": "light"
          }
        }
      ]
    },
    {
      "cell_type": "code",
      "metadata": {
        "id": "7R_y-n9ewPlq"
      },
      "source": [
        "# Train the model\n",
        "#  YOUR CODE GOES HERE"
      ],
      "execution_count": null,
      "outputs": []
    },
    {
      "cell_type": "code",
      "metadata": {
        "id": "E8mPc_LhwPlq",
        "colab": {
          "base_uri": "https://localhost:8080/"
        },
        "outputId": "054635c1-b3b4-4304-dd7c-59ae756221cb"
      },
      "source": [
        "# Evaluate the model using the test data\n",
        "model_loss, model_accuracy = nn_model.evaluate(X_test_scaled,y_test,verbose=2)\n",
        "print(f\"Loss: {model_loss}, Accuracy: {model_accuracy}\")"
      ],
      "execution_count": null,
      "outputs": [
        {
          "output_type": "stream",
          "name": "stdout",
          "text": [
            "268/268 - 0s - loss: 0.5591 - accuracy: 0.7301\n",
            "Loss: 0.5590540766716003, Accuracy: 0.7301457524299622\n"
          ]
        }
      ]
    },
    {
      "cell_type": "code",
      "metadata": {
        "id": "zLKaG0xcwPlr"
      },
      "source": [
        "\n",
        "\n",
        "\n"
      ],
      "execution_count": null,
      "outputs": []
    },
    {
      "cell_type": "code",
      "metadata": {
        "colab": {
          "base_uri": "https://localhost:8080/"
        },
        "id": "e_Ljrcn8EN4I",
        "outputId": "dd39bd05-a9e9-4143-c981-4f832d19b0dd"
      },
      "source": [
        "# Define the model - deep neural net, i.e., the number of input features and hidden nodes for each layer.\n",
        "#  YOUR CODE GOES HERE\n",
        "#MY SECOND MODEL HAS TRAIN DATA ACCURACY IS 0.7388 AND TEST DATA ACCURACY IS 0.7301 ITS A GOOD FIT\n",
        "\n",
        "\n",
        "# Define the deep learning model \n",
        "nn_model = tf.keras.models.Sequential()\n",
        "nn_model.add(tf.keras.layers.Dense(units=100, activation=\"relu\"))\n",
        "nn_model.add(tf.keras.layers.Dense(units=100, activation=\"relu\"))\n",
        "nn_model.add(tf.keras.layers.Dense(units=1, activation=\"sigmoid\"))\n",
        "\n",
        "# Compile the Sequential model together and customize metrics\n",
        "nn_model.compile(loss=\"binary_crossentropy\", optimizer=\"adam\", metrics=[\"accuracy\" ])\n",
        "\n",
        "# Train the model\n",
        "fit_model = nn_model.fit(X_train_scaled, y_train, epochs=75)\n",
        "\n",
        "\n",
        "\n",
        "\n",
        "\n",
        "# Check the structure of the model\n",
        "nn_model.summary()"
      ],
      "execution_count": null,
      "outputs": [
        {
          "output_type": "stream",
          "name": "stdout",
          "text": [
            "Epoch 1/75\n",
            "804/804 [==============================] - 2s 2ms/step - loss: 0.5746 - accuracy: 0.7176\n",
            "Epoch 2/75\n",
            "804/804 [==============================] - 2s 2ms/step - loss: 0.5598 - accuracy: 0.7265\n",
            "Epoch 3/75\n",
            "804/804 [==============================] - 2s 2ms/step - loss: 0.5571 - accuracy: 0.7298\n",
            "Epoch 4/75\n",
            "804/804 [==============================] - 2s 2ms/step - loss: 0.5542 - accuracy: 0.7293\n",
            "Epoch 5/75\n",
            "804/804 [==============================] - 2s 2ms/step - loss: 0.5526 - accuracy: 0.7310\n",
            "Epoch 6/75\n",
            "804/804 [==============================] - 2s 2ms/step - loss: 0.5516 - accuracy: 0.7312\n",
            "Epoch 7/75\n",
            "804/804 [==============================] - 2s 2ms/step - loss: 0.5514 - accuracy: 0.7319\n",
            "Epoch 8/75\n",
            "804/804 [==============================] - 2s 2ms/step - loss: 0.5504 - accuracy: 0.7323\n",
            "Epoch 9/75\n",
            "804/804 [==============================] - 2s 2ms/step - loss: 0.5503 - accuracy: 0.7325\n",
            "Epoch 10/75\n",
            "804/804 [==============================] - 2s 2ms/step - loss: 0.5487 - accuracy: 0.7327\n",
            "Epoch 11/75\n",
            "804/804 [==============================] - 2s 2ms/step - loss: 0.5493 - accuracy: 0.7327\n",
            "Epoch 12/75\n",
            "804/804 [==============================] - 2s 2ms/step - loss: 0.5483 - accuracy: 0.7357\n",
            "Epoch 13/75\n",
            "804/804 [==============================] - 2s 2ms/step - loss: 0.5478 - accuracy: 0.7334\n",
            "Epoch 14/75\n",
            "804/804 [==============================] - 2s 2ms/step - loss: 0.5476 - accuracy: 0.7351\n",
            "Epoch 15/75\n",
            "804/804 [==============================] - 2s 2ms/step - loss: 0.5475 - accuracy: 0.7347\n",
            "Epoch 16/75\n",
            "804/804 [==============================] - 1s 2ms/step - loss: 0.5468 - accuracy: 0.7341\n",
            "Epoch 17/75\n",
            "804/804 [==============================] - 1s 2ms/step - loss: 0.5463 - accuracy: 0.7352\n",
            "Epoch 18/75\n",
            "804/804 [==============================] - 1s 2ms/step - loss: 0.5461 - accuracy: 0.7356\n",
            "Epoch 19/75\n",
            "804/804 [==============================] - 2s 2ms/step - loss: 0.5455 - accuracy: 0.7355\n",
            "Epoch 20/75\n",
            "804/804 [==============================] - 2s 2ms/step - loss: 0.5452 - accuracy: 0.7353\n",
            "Epoch 21/75\n",
            "804/804 [==============================] - 2s 2ms/step - loss: 0.5451 - accuracy: 0.7353\n",
            "Epoch 22/75\n",
            "804/804 [==============================] - 2s 2ms/step - loss: 0.5447 - accuracy: 0.7362\n",
            "Epoch 23/75\n",
            "804/804 [==============================] - 1s 2ms/step - loss: 0.5444 - accuracy: 0.7356\n",
            "Epoch 24/75\n",
            "804/804 [==============================] - 2s 2ms/step - loss: 0.5445 - accuracy: 0.7368\n",
            "Epoch 25/75\n",
            "804/804 [==============================] - 2s 2ms/step - loss: 0.5444 - accuracy: 0.7366\n",
            "Epoch 26/75\n",
            "804/804 [==============================] - 2s 2ms/step - loss: 0.5439 - accuracy: 0.7365\n",
            "Epoch 27/75\n",
            "804/804 [==============================] - 2s 2ms/step - loss: 0.5439 - accuracy: 0.7371\n",
            "Epoch 28/75\n",
            "804/804 [==============================] - 2s 2ms/step - loss: 0.5436 - accuracy: 0.7368\n",
            "Epoch 29/75\n",
            "804/804 [==============================] - 2s 2ms/step - loss: 0.5437 - accuracy: 0.7369\n",
            "Epoch 30/75\n",
            "804/804 [==============================] - 2s 2ms/step - loss: 0.5430 - accuracy: 0.7373\n",
            "Epoch 31/75\n",
            "804/804 [==============================] - 2s 2ms/step - loss: 0.5428 - accuracy: 0.7375\n",
            "Epoch 32/75\n",
            "804/804 [==============================] - 2s 2ms/step - loss: 0.5434 - accuracy: 0.7366\n",
            "Epoch 33/75\n",
            "804/804 [==============================] - 2s 2ms/step - loss: 0.5429 - accuracy: 0.7372\n",
            "Epoch 34/75\n",
            "804/804 [==============================] - 2s 2ms/step - loss: 0.5420 - accuracy: 0.7379\n",
            "Epoch 35/75\n",
            "804/804 [==============================] - 2s 2ms/step - loss: 0.5426 - accuracy: 0.7377\n",
            "Epoch 36/75\n",
            "804/804 [==============================] - 2s 2ms/step - loss: 0.5422 - accuracy: 0.7372\n",
            "Epoch 37/75\n",
            "804/804 [==============================] - 2s 2ms/step - loss: 0.5415 - accuracy: 0.7370\n",
            "Epoch 38/75\n",
            "804/804 [==============================] - 2s 2ms/step - loss: 0.5423 - accuracy: 0.7368\n",
            "Epoch 39/75\n",
            "804/804 [==============================] - 2s 2ms/step - loss: 0.5413 - accuracy: 0.7368\n",
            "Epoch 40/75\n",
            "804/804 [==============================] - 2s 2ms/step - loss: 0.5415 - accuracy: 0.7387\n",
            "Epoch 41/75\n",
            "804/804 [==============================] - 2s 2ms/step - loss: 0.5410 - accuracy: 0.7381\n",
            "Epoch 42/75\n",
            "804/804 [==============================] - 2s 2ms/step - loss: 0.5417 - accuracy: 0.7385\n",
            "Epoch 43/75\n",
            "804/804 [==============================] - 2s 2ms/step - loss: 0.5413 - accuracy: 0.7383\n",
            "Epoch 44/75\n",
            "804/804 [==============================] - 2s 2ms/step - loss: 0.5411 - accuracy: 0.7375\n",
            "Epoch 45/75\n",
            "804/804 [==============================] - 2s 2ms/step - loss: 0.5409 - accuracy: 0.7384\n",
            "Epoch 46/75\n",
            "804/804 [==============================] - 2s 2ms/step - loss: 0.5405 - accuracy: 0.7383\n",
            "Epoch 47/75\n",
            "804/804 [==============================] - 2s 2ms/step - loss: 0.5403 - accuracy: 0.7381\n",
            "Epoch 48/75\n",
            "804/804 [==============================] - 1s 2ms/step - loss: 0.5409 - accuracy: 0.7379\n",
            "Epoch 49/75\n",
            "804/804 [==============================] - 2s 2ms/step - loss: 0.5405 - accuracy: 0.7385\n",
            "Epoch 50/75\n",
            "804/804 [==============================] - 2s 2ms/step - loss: 0.5399 - accuracy: 0.7387\n",
            "Epoch 51/75\n",
            "804/804 [==============================] - 2s 2ms/step - loss: 0.5410 - accuracy: 0.7388\n",
            "Epoch 52/75\n",
            "804/804 [==============================] - 2s 2ms/step - loss: 0.5402 - accuracy: 0.7379\n",
            "Epoch 53/75\n",
            "804/804 [==============================] - 2s 2ms/step - loss: 0.5398 - accuracy: 0.7371\n",
            "Epoch 54/75\n",
            "804/804 [==============================] - 2s 2ms/step - loss: 0.5396 - accuracy: 0.7386\n",
            "Epoch 55/75\n",
            "804/804 [==============================] - 2s 2ms/step - loss: 0.5395 - accuracy: 0.7379\n",
            "Epoch 56/75\n",
            "804/804 [==============================] - 2s 2ms/step - loss: 0.5398 - accuracy: 0.7373\n",
            "Epoch 57/75\n",
            "804/804 [==============================] - 2s 2ms/step - loss: 0.5391 - accuracy: 0.7388\n",
            "Epoch 58/75\n",
            "804/804 [==============================] - 2s 2ms/step - loss: 0.5398 - accuracy: 0.7386\n",
            "Epoch 59/75\n",
            "804/804 [==============================] - 2s 2ms/step - loss: 0.5395 - accuracy: 0.7383\n",
            "Epoch 60/75\n",
            "804/804 [==============================] - 2s 2ms/step - loss: 0.5393 - accuracy: 0.7381\n",
            "Epoch 61/75\n",
            "804/804 [==============================] - 2s 2ms/step - loss: 0.5395 - accuracy: 0.7395\n",
            "Epoch 62/75\n",
            "804/804 [==============================] - 2s 2ms/step - loss: 0.5392 - accuracy: 0.7388\n",
            "Epoch 63/75\n",
            "804/804 [==============================] - 2s 2ms/step - loss: 0.5391 - accuracy: 0.7385\n",
            "Epoch 64/75\n",
            "804/804 [==============================] - 2s 2ms/step - loss: 0.5389 - accuracy: 0.7385\n",
            "Epoch 65/75\n",
            "804/804 [==============================] - 2s 2ms/step - loss: 0.5389 - accuracy: 0.7385\n",
            "Epoch 66/75\n",
            "804/804 [==============================] - 2s 2ms/step - loss: 0.5390 - accuracy: 0.7391\n",
            "Epoch 67/75\n",
            "804/804 [==============================] - 2s 2ms/step - loss: 0.5391 - accuracy: 0.7383\n",
            "Epoch 68/75\n",
            "804/804 [==============================] - 2s 2ms/step - loss: 0.5390 - accuracy: 0.7388\n",
            "Epoch 69/75\n",
            "804/804 [==============================] - 2s 2ms/step - loss: 0.5388 - accuracy: 0.7391\n",
            "Epoch 70/75\n",
            "804/804 [==============================] - 2s 2ms/step - loss: 0.5388 - accuracy: 0.7389\n",
            "Epoch 71/75\n",
            "804/804 [==============================] - 2s 2ms/step - loss: 0.5389 - accuracy: 0.7388\n",
            "Epoch 72/75\n",
            "804/804 [==============================] - 2s 2ms/step - loss: 0.5386 - accuracy: 0.7387\n",
            "Epoch 73/75\n",
            "804/804 [==============================] - 2s 2ms/step - loss: 0.5385 - accuracy: 0.7390\n",
            "Epoch 74/75\n",
            "804/804 [==============================] - 2s 2ms/step - loss: 0.5384 - accuracy: 0.7390\n",
            "Epoch 75/75\n",
            "804/804 [==============================] - 2s 2ms/step - loss: 0.5383 - accuracy: 0.7388\n",
            "Model: \"sequential_1\"\n",
            "_________________________________________________________________\n",
            "Layer (type)                 Output Shape              Param #   \n",
            "=================================================================\n",
            "dense_3 (Dense)              (None, 100)               4100      \n",
            "_________________________________________________________________\n",
            "dense_4 (Dense)              (None, 100)               10100     \n",
            "_________________________________________________________________\n",
            "dense_5 (Dense)              (None, 1)                 101       \n",
            "=================================================================\n",
            "Total params: 14,301\n",
            "Trainable params: 14,301\n",
            "Non-trainable params: 0\n",
            "_________________________________________________________________\n"
          ]
        }
      ]
    },
    {
      "cell_type": "code",
      "metadata": {
        "id": "6vdiP25IHMHF"
      },
      "source": [
        ""
      ],
      "execution_count": null,
      "outputs": []
    },
    {
      "cell_type": "code",
      "metadata": {
        "colab": {
          "base_uri": "https://localhost:8080/",
          "height": 282
        },
        "id": "uwIxiVm-HNx3",
        "outputId": "efe9f592-41f3-4dc0-a15f-f775675ef8f7"
      },
      "source": [
        "# Create a DataFrame containing training history\n",
        "application_df = pd.DataFrame(fit_model.history)\n",
        "\n",
        "# Increase the index by 1 to match the number of epochs\n",
        "application_df.index += 1\n",
        "\n",
        "# Plot the loss\n",
        "application_df.plot(y=\"loss\")"
      ],
      "execution_count": null,
      "outputs": [
        {
          "output_type": "execute_result",
          "data": {
            "text/plain": [
              "<matplotlib.axes._subplots.AxesSubplot at 0x7f8a50caced0>"
            ]
          },
          "metadata": {},
          "execution_count": 24
        },
        {
          "output_type": "display_data",
          "data": {
            "image/png": "[encoded data removed]",
            "text/plain": [
              "<Figure size 432x288 with 1 Axes>"
            ]
          },
          "metadata": {
            "needs_background": "light"
          }
        }
      ]
    },
    {
      "cell_type": "code",
      "metadata": {
        "id": "BWcuNUmDHSaA"
      },
      "source": [
        ""
      ],
      "execution_count": null,
      "outputs": []
    },
    {
      "cell_type": "code",
      "metadata": {
        "colab": {
          "base_uri": "https://localhost:8080/",
          "height": 282
        },
        "id": "_x2m2lZCHZIv",
        "outputId": "fbc88fb5-17ba-48fe-d92e-3e48e30468f6"
      },
      "source": [
        "# Plot the accuracy\n",
        "application_df.plot(y=\"accuracy\")"
      ],
      "execution_count": null,
      "outputs": [
        {
          "output_type": "execute_result",
          "data": {
            "text/plain": [
              "<matplotlib.axes._subplots.AxesSubplot at 0x7f8a50c92150>"
            ]
          },
          "metadata": {},
          "execution_count": 25
        },
        {
          "output_type": "display_data",
          "data": {
            "image/png": "[encoded data removed]",
            "text/plain": [
              "<Figure size 432x288 with 1 Axes>"
            ]
          },
          "metadata": {
            "needs_background": "light"
          }
        }
      ]
    },
    {
      "cell_type": "code",
      "metadata": {
        "id": "tokFE3B4HqZv"
      },
      "source": [
        ""
      ],
      "execution_count": null,
      "outputs": []
    },
    {
      "cell_type": "code",
      "metadata": {
        "colab": {
          "base_uri": "https://localhost:8080/"
        },
        "id": "5al0Vp2NHrvc",
        "outputId": "a09cf98a-ee18-4d0b-abb4-fd17c2530c36"
      },
      "source": [
        "# Evaluate the model using the test data\n",
        "model_loss, model_accuracy = nn_model.evaluate(X_test_scaled,y_test,verbose=2)\n",
        "print(f\"Loss: {model_loss}, Accuracy: {model_accuracy}\")"
      ],
      "execution_count": null,
      "outputs": [
        {
          "output_type": "stream",
          "name": "stdout",
          "text": [
            "268/268 - 0s - loss: 0.5702 - accuracy: 0.7301\n",
            "Loss: 0.5701692700386047, Accuracy: 0.7301457524299622\n"
          ]
        }
      ]
    },
    {
      "cell_type": "code",
      "metadata": {
        "colab": {
          "base_uri": "https://localhost:8080/"
        },
        "id": "NdQv5dWe8uY9",
        "outputId": "346e2cbe-9c27-4ca1-e454-baed08248441"
      },
      "source": [
        "# Define the model - deep neural net, i.e., the number of input features and hidden nodes for each layer.\n",
        "#  YOUR CODE GOES HERE\n",
        "#MY THIRD MODEL HAS ACTIVATION CHANGED INTO tanh SO I GOT TRAIN DATA AS ACCURACY 0.7393 AND TEST DATA AS ACCURACY 0.7309 SO ITS A BESTFIT\n",
        "\n",
        "\n",
        "# Define the deep learning model \n",
        "nn_model = tf.keras.models.Sequential()\n",
        "nn_model.add(tf.keras.layers.Dense(units=100, activation=\"tanh\"))\n",
        "nn_model.add(tf.keras.layers.Dense(units=100, activation=\"tanh\"))\n",
        "nn_model.add(tf.keras.layers.Dense(units=1, activation=\"sigmoid\"))\n",
        "\n",
        "# Compile the Sequential model together and customize metrics\n",
        "nn_model.compile(loss=\"binary_crossentropy\", optimizer=\"adam\", metrics=[\"accuracy\" ])\n",
        "\n",
        "# Train the model\n",
        "fit_model = nn_model.fit(X_train_scaled, y_train, epochs=75)\n",
        "\n",
        "\n",
        "\n",
        "\n",
        "\n",
        "# Check the structure of the model\n",
        "nn_model.summary()\n"
      ],
      "execution_count": null,
      "outputs": [
        {
          "output_type": "stream",
          "name": "stdout",
          "text": [
            "Epoch 1/75\n",
            "804/804 [==============================] - 2s 2ms/step - loss: 0.5775 - accuracy: 0.7187\n",
            "Epoch 2/75\n",
            "804/804 [==============================] - 2s 2ms/step - loss: 0.5619 - accuracy: 0.7277\n",
            "Epoch 3/75\n",
            "804/804 [==============================] - 2s 2ms/step - loss: 0.5590 - accuracy: 0.7290\n",
            "Epoch 4/75\n",
            "804/804 [==============================] - 2s 2ms/step - loss: 0.5563 - accuracy: 0.7292\n",
            "Epoch 5/75\n",
            "804/804 [==============================] - 2s 2ms/step - loss: 0.5554 - accuracy: 0.7290\n",
            "Epoch 6/75\n",
            "804/804 [==============================] - 2s 2ms/step - loss: 0.5544 - accuracy: 0.7295\n",
            "Epoch 7/75\n",
            "804/804 [==============================] - 2s 2ms/step - loss: 0.5522 - accuracy: 0.7289\n",
            "Epoch 8/75\n",
            "804/804 [==============================] - 2s 2ms/step - loss: 0.5521 - accuracy: 0.7311\n",
            "Epoch 9/75\n",
            "804/804 [==============================] - 2s 2ms/step - loss: 0.5508 - accuracy: 0.7292\n",
            "Epoch 10/75\n",
            "804/804 [==============================] - 2s 2ms/step - loss: 0.5502 - accuracy: 0.7295\n",
            "Epoch 11/75\n",
            "804/804 [==============================] - 2s 2ms/step - loss: 0.5503 - accuracy: 0.7314\n",
            "Epoch 12/75\n",
            "804/804 [==============================] - 2s 2ms/step - loss: 0.5492 - accuracy: 0.7331\n",
            "Epoch 13/75\n",
            "804/804 [==============================] - 2s 2ms/step - loss: 0.5486 - accuracy: 0.7341\n",
            "Epoch 14/75\n",
            "804/804 [==============================] - 2s 2ms/step - loss: 0.5485 - accuracy: 0.7331\n",
            "Epoch 15/75\n",
            "804/804 [==============================] - 2s 2ms/step - loss: 0.5473 - accuracy: 0.7337\n",
            "Epoch 16/75\n",
            "804/804 [==============================] - 2s 2ms/step - loss: 0.5479 - accuracy: 0.7315\n",
            "Epoch 17/75\n",
            "804/804 [==============================] - 2s 2ms/step - loss: 0.5467 - accuracy: 0.7324\n",
            "Epoch 18/75\n",
            "804/804 [==============================] - 2s 2ms/step - loss: 0.5462 - accuracy: 0.7336\n",
            "Epoch 19/75\n",
            "804/804 [==============================] - 2s 2ms/step - loss: 0.5463 - accuracy: 0.7335\n",
            "Epoch 20/75\n",
            "804/804 [==============================] - 2s 2ms/step - loss: 0.5456 - accuracy: 0.7351\n",
            "Epoch 21/75\n",
            "804/804 [==============================] - 2s 2ms/step - loss: 0.5455 - accuracy: 0.7337\n",
            "Epoch 22/75\n",
            "804/804 [==============================] - 2s 2ms/step - loss: 0.5454 - accuracy: 0.7358\n",
            "Epoch 23/75\n",
            "804/804 [==============================] - 2s 2ms/step - loss: 0.5448 - accuracy: 0.7358\n",
            "Epoch 24/75\n",
            "804/804 [==============================] - 2s 2ms/step - loss: 0.5443 - accuracy: 0.7347\n",
            "Epoch 25/75\n",
            "804/804 [==============================] - 2s 2ms/step - loss: 0.5439 - accuracy: 0.7356\n",
            "Epoch 26/75\n",
            "804/804 [==============================] - 2s 2ms/step - loss: 0.5439 - accuracy: 0.7351\n",
            "Epoch 27/75\n",
            "804/804 [==============================] - 2s 2ms/step - loss: 0.5435 - accuracy: 0.7364\n",
            "Epoch 28/75\n",
            "804/804 [==============================] - 2s 2ms/step - loss: 0.5433 - accuracy: 0.7357\n",
            "Epoch 29/75\n",
            "804/804 [==============================] - 2s 2ms/step - loss: 0.5431 - accuracy: 0.7360\n",
            "Epoch 30/75\n",
            "804/804 [==============================] - 2s 2ms/step - loss: 0.5426 - accuracy: 0.7378\n",
            "Epoch 31/75\n",
            "804/804 [==============================] - 2s 2ms/step - loss: 0.5428 - accuracy: 0.7365\n",
            "Epoch 32/75\n",
            "804/804 [==============================] - 2s 2ms/step - loss: 0.5427 - accuracy: 0.7365\n",
            "Epoch 33/75\n",
            "804/804 [==============================] - 2s 2ms/step - loss: 0.5420 - accuracy: 0.7358\n",
            "Epoch 34/75\n",
            "804/804 [==============================] - 2s 2ms/step - loss: 0.5419 - accuracy: 0.7373\n",
            "Epoch 35/75\n",
            "804/804 [==============================] - 2s 2ms/step - loss: 0.5419 - accuracy: 0.7372\n",
            "Epoch 36/75\n",
            "804/804 [==============================] - 2s 2ms/step - loss: 0.5414 - accuracy: 0.7372\n",
            "Epoch 37/75\n",
            "804/804 [==============================] - 2s 2ms/step - loss: 0.5414 - accuracy: 0.7368\n",
            "Epoch 38/75\n",
            "804/804 [==============================] - 2s 2ms/step - loss: 0.5410 - accuracy: 0.7369\n",
            "Epoch 39/75\n",
            "804/804 [==============================] - 2s 2ms/step - loss: 0.5408 - accuracy: 0.7374\n",
            "Epoch 40/75\n",
            "804/804 [==============================] - 2s 2ms/step - loss: 0.5408 - accuracy: 0.7381\n",
            "Epoch 41/75\n",
            "804/804 [==============================] - 2s 2ms/step - loss: 0.5407 - accuracy: 0.7378\n",
            "Epoch 42/75\n",
            "804/804 [==============================] - 2s 2ms/step - loss: 0.5400 - accuracy: 0.7351\n",
            "Epoch 43/75\n",
            "804/804 [==============================] - 2s 2ms/step - loss: 0.5405 - accuracy: 0.7373\n",
            "Epoch 44/75\n",
            "804/804 [==============================] - 2s 2ms/step - loss: 0.5400 - accuracy: 0.7387\n",
            "Epoch 45/75\n",
            "804/804 [==============================] - 2s 2ms/step - loss: 0.5401 - accuracy: 0.7381\n",
            "Epoch 46/75\n",
            "804/804 [==============================] - 2s 2ms/step - loss: 0.5399 - accuracy: 0.7378\n",
            "Epoch 47/75\n",
            "804/804 [==============================] - 2s 2ms/step - loss: 0.5397 - accuracy: 0.7379\n",
            "Epoch 48/75\n",
            "804/804 [==============================] - 2s 2ms/step - loss: 0.5395 - accuracy: 0.7364\n",
            "Epoch 49/75\n",
            "804/804 [==============================] - 2s 2ms/step - loss: 0.5397 - accuracy: 0.7376\n",
            "Epoch 50/75\n",
            "804/804 [==============================] - 2s 2ms/step - loss: 0.5396 - accuracy: 0.7378\n",
            "Epoch 51/75\n",
            "804/804 [==============================] - 2s 2ms/step - loss: 0.5393 - accuracy: 0.7379\n",
            "Epoch 52/75\n",
            "804/804 [==============================] - 2s 2ms/step - loss: 0.5389 - accuracy: 0.7384\n",
            "Epoch 53/75\n",
            "804/804 [==============================] - 2s 2ms/step - loss: 0.5388 - accuracy: 0.7381\n",
            "Epoch 54/75\n",
            "804/804 [==============================] - 2s 2ms/step - loss: 0.5389 - accuracy: 0.7391\n",
            "Epoch 55/75\n",
            "804/804 [==============================] - 2s 2ms/step - loss: 0.5388 - accuracy: 0.7372\n",
            "Epoch 56/75\n",
            "804/804 [==============================] - 2s 2ms/step - loss: 0.5389 - accuracy: 0.7394\n",
            "Epoch 57/75\n",
            "804/804 [==============================] - 2s 2ms/step - loss: 0.5383 - accuracy: 0.7386\n",
            "Epoch 58/75\n",
            "804/804 [==============================] - 2s 2ms/step - loss: 0.5386 - accuracy: 0.7392\n",
            "Epoch 59/75\n",
            "804/804 [==============================] - 2s 2ms/step - loss: 0.5384 - accuracy: 0.7400\n",
            "Epoch 60/75\n",
            "804/804 [==============================] - 2s 2ms/step - loss: 0.5382 - accuracy: 0.7379\n",
            "Epoch 61/75\n",
            "804/804 [==============================] - 2s 2ms/step - loss: 0.5384 - accuracy: 0.7388\n",
            "Epoch 62/75\n",
            "804/804 [==============================] - 2s 2ms/step - loss: 0.5384 - accuracy: 0.7394\n",
            "Epoch 63/75\n",
            "804/804 [==============================] - 2s 2ms/step - loss: 0.5381 - accuracy: 0.7387\n",
            "Epoch 64/75\n",
            "804/804 [==============================] - 2s 2ms/step - loss: 0.5380 - accuracy: 0.7400\n",
            "Epoch 65/75\n",
            "804/804 [==============================] - 2s 2ms/step - loss: 0.5380 - accuracy: 0.7392\n",
            "Epoch 66/75\n",
            "804/804 [==============================] - 2s 2ms/step - loss: 0.5375 - accuracy: 0.7381\n",
            "Epoch 67/75\n",
            "804/804 [==============================] - 2s 2ms/step - loss: 0.5378 - accuracy: 0.7396\n",
            "Epoch 68/75\n",
            "804/804 [==============================] - 2s 2ms/step - loss: 0.5381 - accuracy: 0.7394\n",
            "Epoch 69/75\n",
            "804/804 [==============================] - 2s 2ms/step - loss: 0.5380 - accuracy: 0.7396\n",
            "Epoch 70/75\n",
            "804/804 [==============================] - 2s 2ms/step - loss: 0.5372 - accuracy: 0.7397\n",
            "Epoch 71/75\n",
            "804/804 [==============================] - 2s 2ms/step - loss: 0.5376 - accuracy: 0.7402\n",
            "Epoch 72/75\n",
            "804/804 [==============================] - 2s 2ms/step - loss: 0.5376 - accuracy: 0.7405\n",
            "Epoch 73/75\n",
            "804/804 [==============================] - 2s 2ms/step - loss: 0.5375 - accuracy: 0.7396\n",
            "Epoch 74/75\n",
            "804/804 [==============================] - 2s 2ms/step - loss: 0.5373 - accuracy: 0.7395\n",
            "Epoch 75/75\n",
            "804/804 [==============================] - 2s 2ms/step - loss: 0.5376 - accuracy: 0.7393\n",
            "Model: \"sequential_2\"\n",
            "_________________________________________________________________\n",
            "Layer (type)                 Output Shape              Param #   \n",
            "=================================================================\n",
            "dense_6 (Dense)              (None, 100)               4100      \n",
            "_________________________________________________________________\n",
            "dense_7 (Dense)              (None, 100)               10100     \n",
            "_________________________________________________________________\n",
            "dense_8 (Dense)              (None, 1)                 101       \n",
            "=================================================================\n",
            "Total params: 14,301\n",
            "Trainable params: 14,301\n",
            "Non-trainable params: 0\n",
            "_________________________________________________________________\n"
          ]
        }
      ]
    },
    {
      "cell_type": "code",
      "metadata": {
        "colab": {
          "base_uri": "https://localhost:8080/",
          "height": 282
        },
        "id": "uQCY-SmM8xG8",
        "outputId": "403de8e4-b350-48de-86b2-6a7e9d2bab43"
      },
      "source": [
        " #Create a DataFrame containing training history\n",
        "application_df = pd.DataFrame(fit_model.history)\n",
        "\n",
        "# Increase the index by 1 to match the number of epochs\n",
        "application_df.index += 1\n",
        "\n",
        "# Plot the loss\n",
        "application_df.plot(y=\"loss\")"
      ],
      "execution_count": null,
      "outputs": [
        {
          "output_type": "execute_result",
          "data": {
            "text/plain": [
              "<matplotlib.axes._subplots.AxesSubplot at 0x7f8a50a352d0>"
            ]
          },
          "metadata": {},
          "execution_count": 28
        },
        {
          "output_type": "display_data",
          "data": {
            "image/png": "[encoded data removed]",
            "text/plain": [
              "<Figure size 432x288 with 1 Axes>"
            ]
          },
          "metadata": {
            "needs_background": "light"
          }
        }
      ]
    },
    {
      "cell_type": "code",
      "metadata": {
        "colab": {
          "base_uri": "https://localhost:8080/",
          "height": 282
        },
        "id": "8L44GJ1R82qQ",
        "outputId": "0805af6c-a25e-4202-b206-e7b11dd398f7"
      },
      "source": [
        "# Plot the accuracy\n",
        "application_df.plot(y=\"accuracy\")"
      ],
      "execution_count": null,
      "outputs": [
        {
          "output_type": "execute_result",
          "data": {
            "text/plain": [
              "<matplotlib.axes._subplots.AxesSubplot at 0x7f8a544c0610>"
            ]
          },
          "metadata": {},
          "execution_count": 29
        },
        {
          "output_type": "display_data",
          "data": {
            "image/png": "[encoded data removed]",
            "text/plain": [
              "<Figure size 432x288 with 1 Axes>"
            ]
          },
          "metadata": {
            "needs_background": "light"
          }
        }
      ]
    },
    {
      "cell_type": "code",
      "metadata": {
        "colab": {
          "base_uri": "https://localhost:8080/"
        },
        "id": "BU2T6-zC816d",
        "outputId": "5084d140-4182-4511-c026-faaa4fc3a6de"
      },
      "source": [
        "# Evaluate the model using the test data\n",
        "model_loss, model_accuracy = nn_model.evaluate(X_test_scaled,y_test,verbose=2)\n",
        "print(f\"Loss: {model_loss}, Accuracy: {model_accuracy}\")"
      ],
      "execution_count": null,
      "outputs": [
        {
          "output_type": "stream",
          "name": "stdout",
          "text": [
            "268/268 - 0s - loss: 0.5614 - accuracy: 0.7310\n",
            "Loss: 0.5614081025123596, Accuracy: 0.7309620976448059\n"
          ]
        }
      ]
    },
    {
      "cell_type": "code",
      "metadata": {
        "id": "CybA_yEk8wbN"
      },
      "source": [
        "#IN DATA PREPROCESSING I WAS ABLE TO ELIMINATE OUTLIERS AND WORK ON 90% OF DATA\n",
        "#MODEL 1 IS UNDERFIT IT HAS LOW BIAS TO TRAINING DATA AND LOW VARIANCE TO TEST DATA\n",
        "#MODEL 2 AND MY MODEL 3 WITH MODIFICATION OF ACTIVATION = tanh GIVES A GOOD FIT "
      ],
      "execution_count": null,
      "outputs": []
    },
    {
      "cell_type": "code",
      "metadata": {
        "colab": {
          "base_uri": "https://localhost:8080/",
          "height": 17
        },
        "id": "B1kiRaEWF4RM",
        "outputId": "1b84a63f-0f8c-4257-ac62-e5ed86a9896f"
      },
      "source": [
        "# Export our model to HDF5 file\n",
        "from google.colab import files\n",
        "\n",
        "nn_model.save('/content/Alphabet_Soup_model3.h5')\n",
        "files.download('/content/Alphabet_Soup_model3.h5')"
      ],
      "execution_count": null,
      "outputs": [
        {
          "output_type": "display_data",
          "data": {
            "application/javascript": [
              "\n",
              "    async function download(id, filename, size) {\n",
              "      if (!google.colab.kernel.accessAllowed) {\n",
              "        return;\n",
              "      }\n",
              "      const div = document.createElement('div');\n",
              "      const label = document.createElement('label');\n",
              "      label.textContent = `Downloading \"${filename}\": `;\n",
              "      div.appendChild(label);\n",
              "      const progress = document.createElement('progress');\n",
              "      progress.max = size;\n",
              "      div.appendChild(progress);\n",
              "      document.body.appendChild(div);\n",
              "\n",
              "      const buffers = [];\n",
              "      let downloaded = 0;\n",
              "\n",
              "      const channel = await google.colab.kernel.comms.open(id);\n",
              "      // Send a message to notify the kernel that we're ready.\n",
              "      channel.send({})\n",
              "\n",
              "      for await (const message of channel.messages) {\n",
              "        // Send a message to notify the kernel that we're ready.\n",
              "        channel.send({})\n",
              "        if (message.buffers) {\n",
              "          for (const buffer of message.buffers) {\n",
              "            buffers.push(buffer);\n",
              "            downloaded += buffer.byteLength;\n",
              "            progress.value = downloaded;\n",
              "          }\n",
              "        }\n",
              "      }\n",
              "      const blob = new Blob(buffers, {type: 'application/binary'});\n",
              "      const a = document.createElement('a');\n",
              "      a.href = window.URL.createObjectURL(blob);\n",
              "      a.download = filename;\n",
              "      div.appendChild(a);\n",
              "      a.click();\n",
              "      div.remove();\n",
              "    }\n",
              "  "
            ],
            "text/plain": [
              "<IPython.core.display.Javascript object>"
            ]
          },
          "metadata": {}
        },
        {
          "output_type": "display_data",
          "data": {
            "application/javascript": [
              "download(\"download_7732951f-3889-4231-a66b-e39cc5edc5a5\", \"Alphabet_Soup_model3.h5\", 203792)"
            ],
            "text/plain": [
              "<IPython.core.display.Javascript object>"
            ]
          },
          "metadata": {}
        }
      ]
    }
  ]
}